{
 "cells": [
  {
   "cell_type": "code",
   "execution_count": 1,
   "metadata": {},
   "outputs": [
    {
     "name": "stdout",
     "output_type": "stream",
     "text": [
      "Requirement already satisfied: openAI in c:\\users\\yosef\\appdata\\local\\programs\\python\\python39\\lib\\site-packages (0.28.0)\n",
      "Requirement already satisfied: requests>=2.20 in c:\\users\\yosef\\appdata\\local\\programs\\python\\python39\\lib\\site-packages (from openAI) (2.31.0)\n",
      "Requirement already satisfied: tqdm in c:\\users\\yosef\\appdata\\local\\programs\\python\\python39\\lib\\site-packages (from openAI) (4.66.1)\n",
      "Requirement already satisfied: aiohttp in c:\\users\\yosef\\appdata\\local\\programs\\python\\python39\\lib\\site-packages (from openAI) (3.8.5)\n",
      "Requirement already satisfied: charset-normalizer<4,>=2 in c:\\users\\yosef\\appdata\\local\\programs\\python\\python39\\lib\\site-packages (from requests>=2.20->openAI) (3.2.0)\n",
      "Requirement already satisfied: idna<4,>=2.5 in c:\\users\\yosef\\appdata\\local\\programs\\python\\python39\\lib\\site-packages (from requests>=2.20->openAI) (3.4)\n",
      "Requirement already satisfied: urllib3<3,>=1.21.1 in c:\\users\\yosef\\appdata\\local\\programs\\python\\python39\\lib\\site-packages (from requests>=2.20->openAI) (2.0.4)\n",
      "Requirement already satisfied: certifi>=2017.4.17 in c:\\users\\yosef\\appdata\\local\\programs\\python\\python39\\lib\\site-packages (from requests>=2.20->openAI) (2023.7.22)\n",
      "Requirement already satisfied: attrs>=17.3.0 in c:\\users\\yosef\\appdata\\local\\programs\\python\\python39\\lib\\site-packages (from aiohttp->openAI) (23.1.0)\n",
      "Requirement already satisfied: multidict<7.0,>=4.5 in c:\\users\\yosef\\appdata\\local\\programs\\python\\python39\\lib\\site-packages (from aiohttp->openAI) (6.0.4)\n",
      "Requirement already satisfied: async-timeout<5.0,>=4.0.0a3 in c:\\users\\yosef\\appdata\\local\\programs\\python\\python39\\lib\\site-packages (from aiohttp->openAI) (4.0.3)\n",
      "Requirement already satisfied: yarl<2.0,>=1.0 in c:\\users\\yosef\\appdata\\local\\programs\\python\\python39\\lib\\site-packages (from aiohttp->openAI) (1.9.2)\n",
      "Requirement already satisfied: frozenlist>=1.1.1 in c:\\users\\yosef\\appdata\\local\\programs\\python\\python39\\lib\\site-packages (from aiohttp->openAI) (1.4.0)\n",
      "Requirement already satisfied: aiosignal>=1.1.2 in c:\\users\\yosef\\appdata\\local\\programs\\python\\python39\\lib\\site-packages (from aiohttp->openAI) (1.3.1)\n",
      "Requirement already satisfied: colorama in c:\\users\\yosef\\appdata\\roaming\\python\\python39\\site-packages (from tqdm->openAI) (0.4.6)\n",
      "Requirement already satisfied: Langchain in c:\\users\\yosef\\appdata\\local\\programs\\python\\python39\\lib\\site-packages (0.0.285)\n",
      "Requirement already satisfied: PyYAML>=5.3 in c:\\users\\yosef\\appdata\\local\\programs\\python\\python39\\lib\\site-packages (from Langchain) (6.0.1)\n",
      "Requirement already satisfied: SQLAlchemy<3,>=1.4 in c:\\users\\yosef\\appdata\\local\\programs\\python\\python39\\lib\\site-packages (from Langchain) (2.0.20)\n",
      "Requirement already satisfied: aiohttp<4.0.0,>=3.8.3 in c:\\users\\yosef\\appdata\\local\\programs\\python\\python39\\lib\\site-packages (from Langchain) (3.8.5)\n",
      "Requirement already satisfied: async-timeout<5.0.0,>=4.0.0 in c:\\users\\yosef\\appdata\\local\\programs\\python\\python39\\lib\\site-packages (from Langchain) (4.0.3)\n",
      "Requirement already satisfied: dataclasses-json<0.6.0,>=0.5.7 in c:\\users\\yosef\\appdata\\local\\programs\\python\\python39\\lib\\site-packages (from Langchain) (0.5.14)\n",
      "Requirement already satisfied: langsmith<0.1.0,>=0.0.21 in c:\\users\\yosef\\appdata\\local\\programs\\python\\python39\\lib\\site-packages (from Langchain) (0.0.35)\n",
      "Requirement already satisfied: numexpr<3.0.0,>=2.8.4 in c:\\users\\yosef\\appdata\\local\\programs\\python\\python39\\lib\\site-packages (from Langchain) (2.8.5)\n",
      "Requirement already satisfied: numpy<2,>=1 in c:\\users\\yosef\\appdata\\local\\programs\\python\\python39\\lib\\site-packages (from Langchain) (1.24.2)\n",
      "Requirement already satisfied: pydantic<3,>=1 in c:\\users\\yosef\\appdata\\local\\programs\\python\\python39\\lib\\site-packages (from Langchain) (1.10.12)\n",
      "Requirement already satisfied: requests<3,>=2 in c:\\users\\yosef\\appdata\\local\\programs\\python\\python39\\lib\\site-packages (from Langchain) (2.31.0)\n",
      "Requirement already satisfied: tenacity<9.0.0,>=8.1.0 in c:\\users\\yosef\\appdata\\local\\programs\\python\\python39\\lib\\site-packages (from Langchain) (8.2.3)\n",
      "Requirement already satisfied: attrs>=17.3.0 in c:\\users\\yosef\\appdata\\local\\programs\\python\\python39\\lib\\site-packages (from aiohttp<4.0.0,>=3.8.3->Langchain) (23.1.0)\n",
      "Requirement already satisfied: charset-normalizer<4.0,>=2.0 in c:\\users\\yosef\\appdata\\local\\programs\\python\\python39\\lib\\site-packages (from aiohttp<4.0.0,>=3.8.3->Langchain) (3.2.0)\n",
      "Requirement already satisfied: multidict<7.0,>=4.5 in c:\\users\\yosef\\appdata\\local\\programs\\python\\python39\\lib\\site-packages (from aiohttp<4.0.0,>=3.8.3->Langchain) (6.0.4)\n",
      "Requirement already satisfied: yarl<2.0,>=1.0 in c:\\users\\yosef\\appdata\\local\\programs\\python\\python39\\lib\\site-packages (from aiohttp<4.0.0,>=3.8.3->Langchain) (1.9.2)\n",
      "Requirement already satisfied: frozenlist>=1.1.1 in c:\\users\\yosef\\appdata\\local\\programs\\python\\python39\\lib\\site-packages (from aiohttp<4.0.0,>=3.8.3->Langchain) (1.4.0)\n",
      "Requirement already satisfied: aiosignal>=1.1.2 in c:\\users\\yosef\\appdata\\local\\programs\\python\\python39\\lib\\site-packages (from aiohttp<4.0.0,>=3.8.3->Langchain) (1.3.1)\n",
      "Requirement already satisfied: marshmallow<4.0.0,>=3.18.0 in c:\\users\\yosef\\appdata\\local\\programs\\python\\python39\\lib\\site-packages (from dataclasses-json<0.6.0,>=0.5.7->Langchain) (3.20.1)\n",
      "Requirement already satisfied: typing-inspect<1,>=0.4.0 in c:\\users\\yosef\\appdata\\local\\programs\\python\\python39\\lib\\site-packages (from dataclasses-json<0.6.0,>=0.5.7->Langchain) (0.9.0)\n",
      "Requirement already satisfied: typing-extensions>=4.2.0 in c:\\users\\yosef\\appdata\\local\\programs\\python\\python39\\lib\\site-packages (from pydantic<3,>=1->Langchain) (4.7.1)\n",
      "Requirement already satisfied: idna<4,>=2.5 in c:\\users\\yosef\\appdata\\local\\programs\\python\\python39\\lib\\site-packages (from requests<3,>=2->Langchain) (3.4)\n",
      "Requirement already satisfied: urllib3<3,>=1.21.1 in c:\\users\\yosef\\appdata\\local\\programs\\python\\python39\\lib\\site-packages (from requests<3,>=2->Langchain) (2.0.4)\n",
      "Requirement already satisfied: certifi>=2017.4.17 in c:\\users\\yosef\\appdata\\local\\programs\\python\\python39\\lib\\site-packages (from requests<3,>=2->Langchain) (2023.7.22)\n",
      "Requirement already satisfied: greenlet!=0.4.17 in c:\\users\\yosef\\appdata\\local\\programs\\python\\python39\\lib\\site-packages (from SQLAlchemy<3,>=1.4->Langchain) (2.0.2)\n",
      "Requirement already satisfied: packaging>=17.0 in c:\\users\\yosef\\appdata\\roaming\\python\\python39\\site-packages (from marshmallow<4.0.0,>=3.18.0->dataclasses-json<0.6.0,>=0.5.7->Langchain) (23.0)\n",
      "Requirement already satisfied: mypy-extensions>=0.3.0 in c:\\users\\yosef\\appdata\\local\\programs\\python\\python39\\lib\\site-packages (from typing-inspect<1,>=0.4.0->dataclasses-json<0.6.0,>=0.5.7->Langchain) (1.0.0)\n",
      "Requirement already satisfied: docarray in c:\\users\\yosef\\appdata\\local\\programs\\python\\python39\\lib\\site-packages (0.32.1)\n",
      "Requirement already satisfied: numpy>=1.17.3 in c:\\users\\yosef\\appdata\\local\\programs\\python\\python39\\lib\\site-packages (from docarray) (1.24.2)\n",
      "Requirement already satisfied: orjson>=3.8.2 in c:\\users\\yosef\\appdata\\local\\programs\\python\\python39\\lib\\site-packages (from docarray) (3.9.7)\n",
      "Requirement already satisfied: pydantic>=1.10.2 in c:\\users\\yosef\\appdata\\local\\programs\\python\\python39\\lib\\site-packages (from docarray) (1.10.12)\n",
      "Requirement already satisfied: rich>=13.1.0 in c:\\users\\yosef\\appdata\\local\\programs\\python\\python39\\lib\\site-packages (from docarray) (13.5.2)\n",
      "Requirement already satisfied: types-requests>=2.28.11.6 in c:\\users\\yosef\\appdata\\local\\programs\\python\\python39\\lib\\site-packages (from docarray) (2.31.0.2)\n",
      "Requirement already satisfied: typing-inspect>=0.8.0 in c:\\users\\yosef\\appdata\\local\\programs\\python\\python39\\lib\\site-packages (from docarray) (0.9.0)\n",
      "Requirement already satisfied: typing-extensions>=4.2.0 in c:\\users\\yosef\\appdata\\local\\programs\\python\\python39\\lib\\site-packages (from pydantic>=1.10.2->docarray) (4.7.1)\n",
      "Requirement already satisfied: markdown-it-py>=2.2.0 in c:\\users\\yosef\\appdata\\local\\programs\\python\\python39\\lib\\site-packages (from rich>=13.1.0->docarray) (3.0.0)\n",
      "Requirement already satisfied: pygments<3.0.0,>=2.13.0 in c:\\users\\yosef\\appdata\\roaming\\python\\python39\\site-packages (from rich>=13.1.0->docarray) (2.14.0)\n",
      "Requirement already satisfied: types-urllib3 in c:\\users\\yosef\\appdata\\local\\programs\\python\\python39\\lib\\site-packages (from types-requests>=2.28.11.6->docarray) (1.26.25.14)\n",
      "Requirement already satisfied: mypy-extensions>=0.3.0 in c:\\users\\yosef\\appdata\\local\\programs\\python\\python39\\lib\\site-packages (from typing-inspect>=0.8.0->docarray) (1.0.0)\n",
      "Requirement already satisfied: mdurl~=0.1 in c:\\users\\yosef\\appdata\\local\\programs\\python\\python39\\lib\\site-packages (from markdown-it-py>=2.2.0->rich>=13.1.0->docarray) (0.1.2)\n",
      "Requirement already satisfied: langchain[docarray] in c:\\users\\yosef\\appdata\\local\\programs\\python\\python39\\lib\\site-packages (0.0.285)\n",
      "Requirement already satisfied: PyYAML>=5.3 in c:\\users\\yosef\\appdata\\local\\programs\\python\\python39\\lib\\site-packages (from langchain[docarray]) (6.0.1)\n",
      "Requirement already satisfied: SQLAlchemy<3,>=1.4 in c:\\users\\yosef\\appdata\\local\\programs\\python\\python39\\lib\\site-packages (from langchain[docarray]) (2.0.20)\n",
      "Requirement already satisfied: aiohttp<4.0.0,>=3.8.3 in c:\\users\\yosef\\appdata\\local\\programs\\python\\python39\\lib\\site-packages (from langchain[docarray]) (3.8.5)\n",
      "Requirement already satisfied: async-timeout<5.0.0,>=4.0.0 in c:\\users\\yosef\\appdata\\local\\programs\\python\\python39\\lib\\site-packages (from langchain[docarray]) (4.0.3)\n",
      "Requirement already satisfied: dataclasses-json<0.6.0,>=0.5.7 in c:\\users\\yosef\\appdata\\local\\programs\\python\\python39\\lib\\site-packages (from langchain[docarray]) (0.5.14)\n",
      "Requirement already satisfied: langsmith<0.1.0,>=0.0.21 in c:\\users\\yosef\\appdata\\local\\programs\\python\\python39\\lib\\site-packages (from langchain[docarray]) (0.0.35)\n",
      "Requirement already satisfied: numexpr<3.0.0,>=2.8.4 in c:\\users\\yosef\\appdata\\local\\programs\\python\\python39\\lib\\site-packages (from langchain[docarray]) (2.8.5)\n",
      "Requirement already satisfied: numpy<2,>=1 in c:\\users\\yosef\\appdata\\local\\programs\\python\\python39\\lib\\site-packages (from langchain[docarray]) (1.24.2)\n",
      "Requirement already satisfied: pydantic<3,>=1 in c:\\users\\yosef\\appdata\\local\\programs\\python\\python39\\lib\\site-packages (from langchain[docarray]) (1.10.12)\n",
      "Requirement already satisfied: requests<3,>=2 in c:\\users\\yosef\\appdata\\local\\programs\\python\\python39\\lib\\site-packages (from langchain[docarray]) (2.31.0)\n",
      "Requirement already satisfied: tenacity<9.0.0,>=8.1.0 in c:\\users\\yosef\\appdata\\local\\programs\\python\\python39\\lib\\site-packages (from langchain[docarray]) (8.2.3)\n",
      "Requirement already satisfied: docarray[hnswlib]<0.33.0,>=0.32.0 in c:\\users\\yosef\\appdata\\local\\programs\\python\\python39\\lib\\site-packages (from langchain[docarray]) (0.32.1)\n",
      "Requirement already satisfied: attrs>=17.3.0 in c:\\users\\yosef\\appdata\\local\\programs\\python\\python39\\lib\\site-packages (from aiohttp<4.0.0,>=3.8.3->langchain[docarray]) (23.1.0)\n",
      "Requirement already satisfied: charset-normalizer<4.0,>=2.0 in c:\\users\\yosef\\appdata\\local\\programs\\python\\python39\\lib\\site-packages (from aiohttp<4.0.0,>=3.8.3->langchain[docarray]) (3.2.0)\n",
      "Requirement already satisfied: multidict<7.0,>=4.5 in c:\\users\\yosef\\appdata\\local\\programs\\python\\python39\\lib\\site-packages (from aiohttp<4.0.0,>=3.8.3->langchain[docarray]) (6.0.4)\n",
      "Requirement already satisfied: yarl<2.0,>=1.0 in c:\\users\\yosef\\appdata\\local\\programs\\python\\python39\\lib\\site-packages (from aiohttp<4.0.0,>=3.8.3->langchain[docarray]) (1.9.2)\n",
      "Requirement already satisfied: frozenlist>=1.1.1 in c:\\users\\yosef\\appdata\\local\\programs\\python\\python39\\lib\\site-packages (from aiohttp<4.0.0,>=3.8.3->langchain[docarray]) (1.4.0)\n",
      "Requirement already satisfied: aiosignal>=1.1.2 in c:\\users\\yosef\\appdata\\local\\programs\\python\\python39\\lib\\site-packages (from aiohttp<4.0.0,>=3.8.3->langchain[docarray]) (1.3.1)\n",
      "Requirement already satisfied: marshmallow<4.0.0,>=3.18.0 in c:\\users\\yosef\\appdata\\local\\programs\\python\\python39\\lib\\site-packages (from dataclasses-json<0.6.0,>=0.5.7->langchain[docarray]) (3.20.1)\n",
      "Requirement already satisfied: typing-inspect<1,>=0.4.0 in c:\\users\\yosef\\appdata\\local\\programs\\python\\python39\\lib\\site-packages (from dataclasses-json<0.6.0,>=0.5.7->langchain[docarray]) (0.9.0)\n",
      "Requirement already satisfied: orjson>=3.8.2 in c:\\users\\yosef\\appdata\\local\\programs\\python\\python39\\lib\\site-packages (from docarray[hnswlib]<0.33.0,>=0.32.0->langchain[docarray]) (3.9.7)\n",
      "Requirement already satisfied: rich>=13.1.0 in c:\\users\\yosef\\appdata\\local\\programs\\python\\python39\\lib\\site-packages (from docarray[hnswlib]<0.33.0,>=0.32.0->langchain[docarray]) (13.5.2)\n",
      "Requirement already satisfied: types-requests>=2.28.11.6 in c:\\users\\yosef\\appdata\\local\\programs\\python\\python39\\lib\\site-packages (from docarray[hnswlib]<0.33.0,>=0.32.0->langchain[docarray]) (2.31.0.2)\n",
      "Requirement already satisfied: hnswlib>=0.6.2 in c:\\users\\yosef\\appdata\\local\\programs\\python\\python39\\lib\\site-packages (from docarray[hnswlib]<0.33.0,>=0.32.0->langchain[docarray]) (0.7.0)\n",
      "Requirement already satisfied: protobuf>=3.19.0 in c:\\users\\yosef\\appdata\\local\\programs\\python\\python39\\lib\\site-packages (from docarray[hnswlib]<0.33.0,>=0.32.0->langchain[docarray]) (4.24.3)\n",
      "Requirement already satisfied: typing-extensions>=4.2.0 in c:\\users\\yosef\\appdata\\local\\programs\\python\\python39\\lib\\site-packages (from pydantic<3,>=1->langchain[docarray]) (4.7.1)\n",
      "Requirement already satisfied: idna<4,>=2.5 in c:\\users\\yosef\\appdata\\local\\programs\\python\\python39\\lib\\site-packages (from requests<3,>=2->langchain[docarray]) (3.4)\n",
      "Requirement already satisfied: urllib3<3,>=1.21.1 in c:\\users\\yosef\\appdata\\local\\programs\\python\\python39\\lib\\site-packages (from requests<3,>=2->langchain[docarray]) (2.0.4)\n",
      "Requirement already satisfied: certifi>=2017.4.17 in c:\\users\\yosef\\appdata\\local\\programs\\python\\python39\\lib\\site-packages (from requests<3,>=2->langchain[docarray]) (2023.7.22)\n",
      "Requirement already satisfied: greenlet!=0.4.17 in c:\\users\\yosef\\appdata\\local\\programs\\python\\python39\\lib\\site-packages (from SQLAlchemy<3,>=1.4->langchain[docarray]) (2.0.2)\n",
      "Requirement already satisfied: packaging>=17.0 in c:\\users\\yosef\\appdata\\roaming\\python\\python39\\site-packages (from marshmallow<4.0.0,>=3.18.0->dataclasses-json<0.6.0,>=0.5.7->langchain[docarray]) (23.0)\n",
      "Requirement already satisfied: markdown-it-py>=2.2.0 in c:\\users\\yosef\\appdata\\local\\programs\\python\\python39\\lib\\site-packages (from rich>=13.1.0->docarray[hnswlib]<0.33.0,>=0.32.0->langchain[docarray]) (3.0.0)\n",
      "Requirement already satisfied: pygments<3.0.0,>=2.13.0 in c:\\users\\yosef\\appdata\\roaming\\python\\python39\\site-packages (from rich>=13.1.0->docarray[hnswlib]<0.33.0,>=0.32.0->langchain[docarray]) (2.14.0)\n",
      "Requirement already satisfied: types-urllib3 in c:\\users\\yosef\\appdata\\local\\programs\\python\\python39\\lib\\site-packages (from types-requests>=2.28.11.6->docarray[hnswlib]<0.33.0,>=0.32.0->langchain[docarray]) (1.26.25.14)\n",
      "Requirement already satisfied: mypy-extensions>=0.3.0 in c:\\users\\yosef\\appdata\\local\\programs\\python\\python39\\lib\\site-packages (from typing-inspect<1,>=0.4.0->dataclasses-json<0.6.0,>=0.5.7->langchain[docarray]) (1.0.0)\n",
      "Requirement already satisfied: mdurl~=0.1 in c:\\users\\yosef\\appdata\\local\\programs\\python\\python39\\lib\\site-packages (from markdown-it-py>=2.2.0->rich>=13.1.0->docarray[hnswlib]<0.33.0,>=0.32.0->langchain[docarray]) (0.1.2)\n",
      "Requirement already satisfied: tiktoken in c:\\users\\yosef\\appdata\\local\\programs\\python\\python39\\lib\\site-packages (0.4.0)\n",
      "Requirement already satisfied: regex>=2022.1.18 in c:\\users\\yosef\\appdata\\local\\programs\\python\\python39\\lib\\site-packages (from tiktoken) (2023.8.8)\n",
      "Requirement already satisfied: requests>=2.26.0 in c:\\users\\yosef\\appdata\\local\\programs\\python\\python39\\lib\\site-packages (from tiktoken) (2.31.0)\n",
      "Requirement already satisfied: charset-normalizer<4,>=2 in c:\\users\\yosef\\appdata\\local\\programs\\python\\python39\\lib\\site-packages (from requests>=2.26.0->tiktoken) (3.2.0)\n",
      "Requirement already satisfied: idna<4,>=2.5 in c:\\users\\yosef\\appdata\\local\\programs\\python\\python39\\lib\\site-packages (from requests>=2.26.0->tiktoken) (3.4)\n",
      "Requirement already satisfied: urllib3<3,>=1.21.1 in c:\\users\\yosef\\appdata\\local\\programs\\python\\python39\\lib\\site-packages (from requests>=2.26.0->tiktoken) (2.0.4)\n",
      "Requirement already satisfied: certifi>=2017.4.17 in c:\\users\\yosef\\appdata\\local\\programs\\python\\python39\\lib\\site-packages (from requests>=2.26.0->tiktoken) (2023.7.22)\n"
     ]
    }
   ],
   "source": [
    "!pip install openAI\n",
    "!pip install Langchain\n",
    "!pip install langchain[docarray]\n",
    "!pip install tiktoken"
   ]
  },
  {
   "cell_type": "code",
   "execution_count": 44,
   "metadata": {},
   "outputs": [],
   "source": [
    "import openai\n",
    "import os\n",
    "\n",
    "from dotenv import load_dotenv, find_dotenv\n",
    "_ = load_dotenv(find_dotenv()) # read local .env file\n",
    "\n",
    "openai.api_key  = os.getenv('OPENAI_API_KEY')"
   ]
  },
  {
   "cell_type": "code",
   "execution_count": 45,
   "metadata": {},
   "outputs": [],
   "source": [
    "from langchain.chains import RetrievalQA\n",
    "from langchain.chat_models import ChatOpenAI\n",
    "from langchain.document_loaders import CSVLoader\n",
    "from langchain.indexes import VectorstoreIndexCreator\n",
    "from langchain.vectorstores import DocArrayInMemorySearch\n",
    "from IPython.display import display, Markdown"
   ]
  },
  {
   "cell_type": "markdown",
   "metadata": {},
   "source": [
    "QUESTION ONE "
   ]
  },
  {
   "cell_type": "markdown",
   "metadata": {},
   "source": [
    "Extract information about the columns of the Template table and tables A and B in the format of a text description."
   ]
  },
  {
   "cell_type": "code",
   "execution_count": 46,
   "metadata": {},
   "outputs": [],
   "source": [
    "TableA = 'table_A.csv'\n",
    "loaderA = CSVLoader(file_path=TableA)\n",
    "TableB = 'table_B.csv'\n",
    "loaderB = CSVLoader(file_path=TableB)\n",
    "Template = 'template.csv'\n",
    "loader_Template = CSVLoader(file_path=Template)\n"
   ]
  },
  {
   "cell_type": "code",
   "execution_count": 47,
   "metadata": {},
   "outputs": [],
   "source": [
    "index_A = VectorstoreIndexCreator(\n",
    "    vectorstore_cls=DocArrayInMemorySearch\n",
    ").from_loaders([loaderA])\n",
    "\n",
    "index_B = VectorstoreIndexCreator(\n",
    "    vectorstore_cls=DocArrayInMemorySearch\n",
    ").from_loaders([loaderB])\n",
    "\n",
    "index_template = VectorstoreIndexCreator(\n",
    "    vectorstore_cls=DocArrayInMemorySearch\n",
    ").from_loaders([loader_Template ])\n"
   ]
  },
  {
   "cell_type": "code",
   "execution_count": 51,
   "metadata": {},
   "outputs": [],
   "source": [
    "query_A =\"PLEASE Extract information about the columns of the TABLE_A  in the format of a text description.\""
   ]
  },
  {
   "cell_type": "code",
   "execution_count": 52,
   "metadata": {},
   "outputs": [],
   "source": [
    "response_A = index_A.query(query_A)"
   ]
  },
  {
   "cell_type": "code",
   "execution_count": 53,
   "metadata": {},
   "outputs": [
    {
     "data": {
      "text/markdown": [
       " The table contains information about four individuals who have purchased insurance plans. The columns include Date of Policy, Full Name, Insurance Plan, Policy Number, Monthly Premium, Department, Job Title, Policy Start, Insurance Type, and Monthly Cost."
      ],
      "text/plain": [
       "<IPython.core.display.Markdown object>"
      ]
     },
     "metadata": {},
     "output_type": "display_data"
    }
   ],
   "source": [
    "display(Markdown(response_A))"
   ]
  },
  {
   "cell_type": "code",
   "execution_count": 54,
   "metadata": {},
   "outputs": [
    {
     "data": {
      "text/markdown": [
       " TABLE_B contains 8 columns: PolicyDate, Name, PlanType, Policy_ID, PremiumAmount, Hobby, MaritalStatus, StartDate, Employee_Name, Plan_Name, PolicyID, and Cost. The PolicyDate column contains the date the policy was created. The Name column contains the name of the policy holder. The PlanType column contains the type of plan the policy holder has. The Policy_ID column contains the unique identifier for the policy. The PremiumAmount column contains the amount of the premium for the policy. The Hobby column contains the policy holder's hobby. The MaritalStatus column contains the policy holder's marital status. The StartDate column contains the date the policy started. The Employee_Name column contains the name of the employee associated with the policy. The Plan_Name column contains the name of the plan associated with the policy. The PolicyID column contains the unique identifier for the policy. The Cost column contains the cost of the policy."
      ],
      "text/plain": [
       "<IPython.core.display.Markdown object>"
      ]
     },
     "metadata": {},
     "output_type": "display_data"
    }
   ],
   "source": [
    "query_B =\"Similarly, please Extract information about the columns of the TABLE_B  in the format of a text description.\"\n",
    "response_B = index_B.query(query_B)\n",
    "display(Markdown(response_B))"
   ]
  },
  {
   "cell_type": "code",
   "execution_count": 55,
   "metadata": {},
   "outputs": [
    {
     "data": {
      "text/markdown": [
       " The template contains four columns: Date, EmployeeName, Plan, PolicyNumber, and Premium. The Date column contains the date of the policy, the EmployeeName column contains the name of the employee, the Plan column contains the type of plan the employee has, the PolicyNumber column contains the policy number, and the Premium column contains the premium amount."
      ],
      "text/plain": [
       "<IPython.core.display.Markdown object>"
      ]
     },
     "metadata": {},
     "output_type": "display_data"
    }
   ],
   "source": [
    "query_template =\"Similarly, please Extract information about the columns of the Template  in the format of a text description.\"\n",
    "response_template = index_template.query(query_template)\n",
    "display(Markdown(response_template))"
   ]
  },
  {
   "cell_type": "markdown",
   "metadata": {},
   "source": [
    "QUESTION 2 "
   ]
  },
  {
   "cell_type": "markdown",
   "metadata": {},
   "source": [
    "For each of the candidate tables (A and B), ask the LLM to find similar columns in the Template."
   ]
  },
  {
   "cell_type": "code",
   "execution_count": 56,
   "metadata": {},
   "outputs": [],
   "source": [
    "from langchain.embeddings import OpenAIEmbeddings\n",
    "embeddings = OpenAIEmbeddings()"
   ]
  },
  {
   "cell_type": "code",
   "execution_count": 57,
   "metadata": {},
   "outputs": [],
   "source": [
    "embed = embeddings.embed_query(\"Hi my name is Harrison\")"
   ]
  },
  {
   "cell_type": "code",
   "execution_count": 58,
   "metadata": {},
   "outputs": [],
   "source": [
    "docsA = loaderA.load()"
   ]
  },
  {
   "cell_type": "code",
   "execution_count": 59,
   "metadata": {},
   "outputs": [],
   "source": [
    "dbA = DocArrayInMemorySearch.from_documents(\n",
    "    docsA,\n",
    "    embeddings\n",
    ")"
   ]
  },
  {
   "cell_type": "code",
   "execution_count": 60,
   "metadata": {},
   "outputs": [],
   "source": [
    "retriever_A = dbA.as_retriever()"
   ]
  },
  {
   "cell_type": "code",
   "execution_count": 61,
   "metadata": {},
   "outputs": [],
   "source": [
    "docsB = loaderB.load()\n",
    "dbB = DocArrayInMemorySearch.from_documents(\n",
    "    docsB,\n",
    "    embeddings\n",
    ")\n",
    "retriever_B = dbB.as_retriever()"
   ]
  },
  {
   "cell_type": "code",
   "execution_count": 62,
   "metadata": {},
   "outputs": [],
   "source": [
    "docs_template= loader_Template.load()\n",
    "dbtemp = DocArrayInMemorySearch.from_documents(\n",
    "    docs_template,\n",
    "    embeddings\n",
    ")\n",
    "retriever_template = dbtemp.as_retriever()"
   ]
  },
  {
   "cell_type": "code",
   "execution_count": 63,
   "metadata": {},
   "outputs": [],
   "source": [
    "query = \"Compare the columns in Table_A.csv with those in 'Template.csv' and identify which columns in Table A are the same as columns in Table T. For example 'DateOfPolicy' from Table_A is an alias to 'Date' from 'template' table \""
   ]
  },
  {
   "cell_type": "code",
   "execution_count": 69,
   "metadata": {},
   "outputs": [
    {
     "data": {
      "text/markdown": [
       " The columns in Table A that have similar sentiments to the columns in Table T are EmployeeName, Plan, PolicyNumber, and Premium. The pairs of fields from the two tables in a tabular format are: \n",
       "Table A: EmployeeName, Plan, PolicyNumber, Premium \n",
       "Table T: Date, EmployeeName, Plan, PolicyNumber, Premium"
      ],
      "text/plain": [
       "<IPython.core.display.Markdown object>"
      ]
     },
     "metadata": {},
     "output_type": "display_data"
    }
   ],
   "source": [
    "query_A_template =\"step 1.Compare the columns in Table A with those in template and identify which columns in Table A are having similar \\\n",
    "                   sentiments as columns in Table T. for example the 'Date_of_Policy' field from 'table_A' holds the same meaning  to the 'Date' field of table 'template'\\\n",
    "                   step 2. put the pairs of fields from the two tables in a tabular format \"\n",
    "response_A_template = index_template.query(query_A_template)\n",
    "display(Markdown(response_A_template))"
   ]
  },
  {
   "cell_type": "code",
   "execution_count": null,
   "metadata": {},
   "outputs": [],
   "source": []
  },
  {
   "cell_type": "code",
   "execution_count": null,
   "metadata": {},
   "outputs": [],
   "source": []
  },
  {
   "cell_type": "code",
   "execution_count": null,
   "metadata": {},
   "outputs": [],
   "source": []
  },
  {
   "cell_type": "code",
   "execution_count": null,
   "metadata": {},
   "outputs": [],
   "source": []
  },
  {
   "cell_type": "code",
   "execution_count": null,
   "metadata": {},
   "outputs": [],
   "source": []
  },
  {
   "cell_type": "code",
   "execution_count": null,
   "metadata": {},
   "outputs": [],
   "source": []
  },
  {
   "cell_type": "code",
   "execution_count": null,
   "metadata": {},
   "outputs": [],
   "source": []
  },
  {
   "cell_type": "code",
   "execution_count": null,
   "metadata": {},
   "outputs": [],
   "source": []
  },
  {
   "cell_type": "code",
   "execution_count": null,
   "metadata": {},
   "outputs": [],
   "source": []
  },
  {
   "cell_type": "code",
   "execution_count": null,
   "metadata": {},
   "outputs": [],
   "source": []
  },
  {
   "cell_type": "markdown",
   "metadata": {},
   "source": []
  }
 ],
 "metadata": {
  "kernelspec": {
   "display_name": "Python 3",
   "language": "python",
   "name": "python3"
  },
  "language_info": {
   "codemirror_mode": {
    "name": "ipython",
    "version": 3
   },
   "file_extension": ".py",
   "mimetype": "text/x-python",
   "name": "python",
   "nbconvert_exporter": "python",
   "pygments_lexer": "ipython3",
   "version": "3.9.5"
  },
  "orig_nbformat": 4
 },
 "nbformat": 4,
 "nbformat_minor": 2
}
